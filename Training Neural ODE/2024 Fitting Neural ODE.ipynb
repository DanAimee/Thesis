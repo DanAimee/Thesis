{
 "cells": [
  {
   "cell_type": "markdown",
   "id": "ffb45d35-bac1-49c2-a4a7-7aa8f7ba5503",
   "metadata": {},
   "source": [
    "# Import "
   ]
  },
  {
   "cell_type": "code",
   "execution_count": 1,
   "id": "9a446833-bbeb-4213-9fb3-474b3ee5e45d",
   "metadata": {},
   "outputs": [],
   "source": [
    "import jax.numpy as jnp\n",
    "import jax.random as jrandom"
   ]
  },
  {
   "cell_type": "code",
   "execution_count": 2,
   "id": "02246908-d4c1-4da2-b8c1-2d56c4a2811e",
   "metadata": {},
   "outputs": [
    {
     "name": "stderr",
     "output_type": "stream",
     "text": [
      "C:\\Users\\danic\\anaconda3\\envs\\enzyme\\Lib\\site-packages\\tqdm\\auto.py:21: TqdmWarning: IProgress not found. Please update jupyter and ipywidgets. See https://ipywidgets.readthedocs.io/en/stable/user_install.html\n",
      "  from .autonotebook import tqdm as notebook_tqdm\n"
     ]
    }
   ],
   "source": [
    "import json\n",
    "\n",
    "import jax.numpy as jnp\n",
    "import catalax as ctx\n",
    "import catalax.neural as ctn"
   ]
  },
  {
   "cell_type": "code",
   "execution_count": 3,
   "id": "8243dd42-bf81-4b72-869a-f061348b25d7",
   "metadata": {},
   "outputs": [],
   "source": [
    "import matplotlib.pyplot as plt"
   ]
  },
  {
   "cell_type": "code",
   "execution_count": 4,
   "id": "e3bef972-7895-4bb7-a3d6-8cc680e225b2",
   "metadata": {},
   "outputs": [],
   "source": [
    "import json\n",
    "\n",
    "import jax.numpy as jnp\n",
    "import catalax as ctx\n",
    "import catalax.neural as ctn"
   ]
  },
  {
   "cell_type": "code",
   "execution_count": 5,
   "id": "2d4eeccb-fe41-4b1f-b686-ae5e1d09fc45",
   "metadata": {},
   "outputs": [],
   "source": [
    "from tqdm import tqdm\n",
    "import time\n"
   ]
  },
  {
   "cell_type": "code",
   "execution_count": 6,
   "id": "960ebbf1-c114-4fa1-b250-b44f6c6358ca",
   "metadata": {
    "scrolled": true
   },
   "outputs": [],
   "source": [
    "from catalax import Model\n",
    "from catalax.neural import NeuralODE, train_neural_ode\n"
   ]
  },
  {
   "cell_type": "code",
   "execution_count": 7,
   "id": "fd027609-6716-4398-98c6-57489a12ce16",
   "metadata": {},
   "outputs": [],
   "source": [
    "import numpy as np"
   ]
  },
  {
   "cell_type": "code",
   "execution_count": 10,
   "id": "757c6f55-4285-4855-9be9-1078517488f5",
   "metadata": {
    "scrolled": true
   },
   "outputs": [],
   "source": [
    "import numpy as np\n",
    "model = Model.load(\"C:/Users/danic/OneDrive/Desktop/Masters Thesis/model_pgm.json\")\n",
    "times = jnp.load(\"C:/Users/danic/OneDrive/Desktop/Masters Thesis/Kyle time arrays/time.npy\", allow_pickle=True)\n",
    "data = jnp.load(\"C:/Users/danic/OneDrive/Desktop/Masters Thesis/Kyle time arrays/data_kyle.npy\", allow_pickle=True)\n",
    "y0s = jnp.load(\"C:/Users/danic/OneDrive/Desktop/Masters Thesis/Kyle time arrays/final_initials.npy\",allow_pickle=True)\n",
    "\n",
    " \n"
   ]
  },
  {
   "cell_type": "code",
   "execution_count": 11,
   "id": "cbdd6ed2-dd88-47ce-8b50-2744bff83aae",
   "metadata": {},
   "outputs": [
    {
     "name": "stdout",
     "output_type": "stream",
     "text": [
      "(13, 39) (13, 39, 3) (13, 3)\n"
     ]
    }
   ],
   "source": [
    "print(times.shape, data.shape, y0s.shape)\n",
    "\n",
    "# Handle PRNG keys\n",
    "key = jrandom.PRNGKey(420)\n",
    "data_key, model_key, loader_key = jrandom.split(key, 3)"
   ]
  },
  {
   "cell_type": "code",
   "execution_count": 12,
   "id": "6770273c-a112-46a8-ac6b-79d7eaef218f",
   "metadata": {
    "scrolled": true
   },
   "outputs": [],
   "source": [
    "# Create a neural ODE model\n",
    "neural_ode = NeuralODE.from_model(model, width_size=32, depth=2, key=model_key)"
   ]
  },
  {
   "cell_type": "markdown",
   "id": "32476e73-f3db-4da9-aa16-3985d452623e",
   "metadata": {},
   "source": [
    "# NEURAL ODE"
   ]
  },
  {
   "cell_type": "code",
   "execution_count": 11,
   "id": "3908be11-e1dc-45d6-90ed-b5ae4494a526",
   "metadata": {},
   "outputs": [
    {
     "data": {
      "text/plain": [
       "NeuralODE(\n",
       "  func=MLP(\n",
       "    mlp=MLP(\n",
       "      layers=(\n",
       "        Linear(\n",
       "          weight=f32[32,3],\n",
       "          bias=f32[32],\n",
       "          in_features=3,\n",
       "          out_features=32,\n",
       "          use_bias=True\n",
       "        ),\n",
       "        Linear(\n",
       "          weight=f32[32,32],\n",
       "          bias=f32[32],\n",
       "          in_features=32,\n",
       "          out_features=32,\n",
       "          use_bias=True\n",
       "        ),\n",
       "        Linear(\n",
       "          weight=f32[3,32],\n",
       "          bias=f32[3],\n",
       "          in_features=32,\n",
       "          out_features=3,\n",
       "          use_bias=True\n",
       "        )\n",
       "      ),\n",
       "      activation=<wrapped function softplus>,\n",
       "      final_activation=<function <lambda>>,\n",
       "      use_bias=True,\n",
       "      use_final_bias=True,\n",
       "      in_size=3,\n",
       "      out_size=3,\n",
       "      width_size=32,\n",
       "      depth=2\n",
       "    )\n",
       "  ),\n",
       "  observable_indices=[0, 1, 2],\n",
       "  hyperparams={\n",
       "    'data_size':\n",
       "    3,\n",
       "    'width_size':\n",
       "    32,\n",
       "    'depth':\n",
       "    2,\n",
       "    'model':\n",
       "    {\n",
       "      'name':\n",
       "      'model',\n",
       "      'species':\n",
       "      [\n",
       "        {'name': 'p3ga', 'symbol': s0},\n",
       "        {'name': 'p2ga', 'symbol': s1},\n",
       "        {'name': 'PEP', 'symbol': s2}\n",
       "      ],\n",
       "      'odes':\n",
       "      [\n",
       "        {\n",
       "          'equation':\n",
       "          vf_pgm*(s0 - s1/keq_pgm)/(k_p2ga_pgm*(1 + s1/k_p3ga_pgm + s0/k_p2ga_pgm)),\n",
       "          'observable':\n",
       "          True,\n",
       "          'species':\n",
       "          's0'\n",
       "        },\n",
       "        {\n",
       "          'equation':\n",
       "          vf_pgm*(s1 - s0/keq_pgm)/(k_p3ga_pgm*(1 + s1/k_p3ga_pgm + s0/k_p2ga_pgm)),\n",
       "          'observable':\n",
       "          True,\n",
       "          'species':\n",
       "          's1'\n",
       "        },\n",
       "        {\n",
       "          'equation':\n",
       "          s1*vf_eno*(1 - s2/(keq_eno*s1))/(k_p2ga_eno*(1 + s1/k_p2ga_eno + s2/k_PEP_eno)),\n",
       "          'observable':\n",
       "          True,\n",
       "          'species':\n",
       "          's2'\n",
       "        }\n",
       "      ],\n",
       "      'parameters':\n",
       "      [\n",
       "        {\n",
       "          'name':\n",
       "          'k_p2ga_pgm',\n",
       "          'symbol':\n",
       "          'k_p2ga_pgm',\n",
       "          'value':\n",
       "          0.08,\n",
       "          'constant':\n",
       "          False,\n",
       "          'prior':\n",
       "          {'type': 'Uniform', 'low': 1e-06, 'high': 1000000.0}\n",
       "        },\n",
       "        {\n",
       "          'name':\n",
       "          'keq_pgm',\n",
       "          'symbol':\n",
       "          'keq_pgm',\n",
       "          'value':\n",
       "          0.19,\n",
       "          'constant':\n",
       "          False,\n",
       "          'prior':\n",
       "          {'type': 'Uniform', 'low': 1e-06, 'high': 1000000.0}\n",
       "        },\n",
       "        {\n",
       "          'name':\n",
       "          'vf_pgm',\n",
       "          'symbol':\n",
       "          'vf_pgm',\n",
       "          'value':\n",
       "          9.4,\n",
       "          'constant':\n",
       "          False,\n",
       "          'prior':\n",
       "          {'type': 'Uniform', 'low': 1e-06, 'high': 1000000.0}\n",
       "        },\n",
       "        {\n",
       "          'name':\n",
       "          'k_p3ga_pgm',\n",
       "          'symbol':\n",
       "          'k_p3ga_pgm',\n",
       "          'value':\n",
       "          1.2,\n",
       "          'constant':\n",
       "          False,\n",
       "          'prior':\n",
       "          {'type': 'Uniform', 'low': 1e-06, 'high': 1000000.0}\n",
       "        },\n",
       "        {\n",
       "          'name':\n",
       "          'vf_eno',\n",
       "          'symbol':\n",
       "          'vf_eno',\n",
       "          'value':\n",
       "          1.35,\n",
       "          'constant':\n",
       "          False,\n",
       "          'prior':\n",
       "          {'type': 'Uniform', 'low': 1e-06, 'high': 1000000.0}\n",
       "        },\n",
       "        {\n",
       "          'name':\n",
       "          'keq_eno',\n",
       "          'symbol':\n",
       "          'keq_eno',\n",
       "          'value':\n",
       "          6.7,\n",
       "          'constant':\n",
       "          False,\n",
       "          'prior':\n",
       "          {'type': 'Uniform', 'low': 1e-06, 'high': 1000000.0}\n",
       "        },\n",
       "        {\n",
       "          'name':\n",
       "          'k_p2ga_eno',\n",
       "          'symbol':\n",
       "          'k_p2ga_eno',\n",
       "          'value':\n",
       "          0.04,\n",
       "          'constant':\n",
       "          False,\n",
       "          'prior':\n",
       "          {'type': 'Uniform', 'low': 1e-06, 'high': 1000000.0}\n",
       "        },\n",
       "        {\n",
       "          'name':\n",
       "          'k_PEP_eno',\n",
       "          'symbol':\n",
       "          'k_PEP_eno',\n",
       "          'value':\n",
       "          0.5,\n",
       "          'constant':\n",
       "          False,\n",
       "          'prior':\n",
       "          {'type': 'Uniform', 'low': 1e-06, 'high': 1000000.0}\n",
       "        }\n",
       "      ]\n",
       "    }\n",
       "  },\n",
       "  solver=<class 'diffrax.solver.tsit5.Tsit5'>\n",
       ")"
      ]
     },
     "execution_count": 11,
     "metadata": {},
     "output_type": "execute_result"
    }
   ],
   "source": [
    "neural_ode"
   ]
  },
  {
   "cell_type": "code",
   "execution_count": 20,
   "id": "35c5ffe9-2e2f-4758-ac58-75ad9085b0da",
   "metadata": {
    "scrolled": true
   },
   "outputs": [
    {
     "name": "stdout",
     "output_type": "stream",
     "text": [
      "<< Strategy #1: Learning rate: 0.003 | Steps: 1000 Length: 10.0% >>\n",
      "\n"
     ]
    },
    {
     "name": "stderr",
     "output_type": "stream",
     "text": [
      "MSE: 379.1400 MAE: 13.0326: : 1100it [00:40, 27.02it/s]                                                                \n"
     ]
    },
    {
     "name": "stdout",
     "output_type": "stream",
     "text": [
      "\n",
      "\n",
      "<< Strategy #2: Learning rate: 0.0003 | Steps: 5000 Length: 50.0% >>\n",
      "\n"
     ]
    },
    {
     "name": "stderr",
     "output_type": "stream",
     "text": [
      "MSE: 11413.7031 MAE: 65.5161: : 5100it [11:34,  7.34it/s]                                                              \n"
     ]
    },
    {
     "name": "stdout",
     "output_type": "stream",
     "text": [
      "\n",
      "\n",
      "<< Strategy #3: Learning rate: 3e-05 | Steps: 10000 Length: 75.0% >>\n",
      "\n"
     ]
    },
    {
     "name": "stderr",
     "output_type": "stream",
     "text": [
      "MSE: 22702.5352 MAE: 94.3280: : 10100it [22:17,  7.55it/s]                                                             \n"
     ]
    },
    {
     "name": "stdout",
     "output_type": "stream",
     "text": [
      "\n",
      "\n",
      "<< Strategy #4: Learning rate: 3e-06 | Steps: 100000 Length: 100% >>\n",
      "\n"
     ]
    },
    {
     "name": "stderr",
     "output_type": "stream",
     "text": [
      "MSE: 36104.5391 MAE: 120.5975: : 100100it [5:19:46,  5.22it/s]                                                         "
     ]
    },
    {
     "name": "stdout",
     "output_type": "stream",
     "text": [
      "\n",
      "\n"
     ]
    },
    {
     "name": "stderr",
     "output_type": "stream",
     "text": [
      "\n"
     ]
    }
   ],
   "source": [
    "# Train neural ODE\n",
    "trained = train_neural_ode(\n",
    "    model=neural_ode,\n",
    "    data=data,\n",
    "    times=times,\n",
    "    inital_conditions=y0s,\n",
    "    batch_size=5,\n",
    "    steps_strategy=(1000, 5000,10000,100000),\n",
    "    lr_strategy=(3e-3, 3e-4,3e-5,3e-6),\n",
    "    length_strategy=(0.1, 0.5,0.75,1),\n",
    "    log=\"log.log\",\n",
    "    save_milestones=False,\n",
    ")"
   ]
  },
  {
   "cell_type": "code",
   "execution_count": 22,
   "id": "33884a2f-ee4a-4b7e-ba96-edf45b2bfc43",
   "metadata": {},
   "outputs": [],
   "source": [
    "#save\n",
    "trained.save_to_eqx(\"C:/Users/danic/OneDrive/Desktop/Masters Thesis/trained.eqx\",'Trained_2024_March_100k_Steps_3e6_Length')\n"
   ]
  },
  {
   "cell_type": "markdown",
   "id": "6a34ce7a-32b6-4c28-a443-b8e9bf2cf2d3",
   "metadata": {},
   "source": [
    "# Load Data"
   ]
  },
  {
   "cell_type": "code",
   "execution_count": 15,
   "id": "6f86f631-fa97-4950-9db9-0d2684a8c79e",
   "metadata": {},
   "outputs": [],
   "source": [
    "# Initialize the model\n",
    "model = model = Model.load(\"C:/Users/danic/OneDrive/Desktop/Masters Thesis/model_pgm.json\")\n"
   ]
  },
  {
   "cell_type": "code",
   "execution_count": 16,
   "id": "7da44f8a-af64-495c-8a5c-2199c553102e",
   "metadata": {
    "scrolled": true
   },
   "outputs": [
    {
     "name": "stdout",
     "output_type": "stream",
     "text": [
      "times: (13, 39) | Data: (13, 39, 3) | Initial Conditions: (13, 3)\n"
     ]
    }
   ],
   "source": [
    "print(f\"times: {times.shape} | Data: {data.shape} | Initial Conditions: {y0s.shape}\")"
   ]
  },
  {
   "cell_type": "code",
   "execution_count": 17,
   "id": "c99f5b08-585d-45aa-bc08-bb4e8fbca7f0",
   "metadata": {},
   "outputs": [
    {
     "name": "stdout",
     "output_type": "stream",
     "text": [
      "Model summary\n"
     ]
    },
    {
     "data": {
      "text/latex": [
       "$\\displaystyle x = \\left[\\begin{matrix}s_{0} & s_{1} & s_{2}\\end{matrix}\\right]$"
      ],
      "text/plain": [
       "Eq(x, Matrix([[s0, s1, s2]]))"
      ]
     },
     "metadata": {},
     "output_type": "display_data"
    },
    {
     "data": {
      "text/latex": [
       "$\\displaystyle \\theta = \\left[\\begin{matrix}vf_{pgm} & k_{p3ga pgm} & keq_{pgm} & k_{p2ga pgm} & keq_{eno} & k_{PEP eno} & vf_{eno} & k_{p2ga eno}\\end{matrix}\\right]$"
      ],
      "text/plain": [
       "Eq(theta, Matrix([[vf_pgm, k_p3ga_pgm, keq_pgm, k_p2ga_pgm, keq_eno, k_PEP_eno, vf_eno, k_p2ga_eno]]))"
      ]
     },
     "metadata": {},
     "output_type": "display_data"
    },
    {
     "data": {
      "text/latex": [
       "$\\displaystyle \\frac{d}{d t} p3ga = \\frac{vf_{pgm} \\left(s_{0} - \\frac{s_{1}}{keq_{pgm}}\\right)}{k_{p2ga pgm} \\left(1 + \\frac{s_{1}}{k_{p3ga pgm}} + \\frac{s_{0}}{k_{p2ga pgm}}\\right)}$"
      ],
      "text/plain": [
       "Eq(Derivative(p3ga, t), vf_pgm*(s0 - s1/keq_pgm)/(k_p2ga_pgm*(1 + s1/k_p3ga_pgm + s0/k_p2ga_pgm)))"
      ]
     },
     "metadata": {},
     "output_type": "display_data"
    },
    {
     "data": {
      "text/latex": [
       "$\\displaystyle \\frac{d}{d t} p2ga = \\frac{vf_{pgm} \\left(s_{1} - \\frac{s_{0}}{keq_{pgm}}\\right)}{k_{p3ga pgm} \\left(1 + \\frac{s_{1}}{k_{p3ga pgm}} + \\frac{s_{0}}{k_{p2ga pgm}}\\right)}$"
      ],
      "text/plain": [
       "Eq(Derivative(p2ga, t), vf_pgm*(s1 - s0/keq_pgm)/(k_p3ga_pgm*(1 + s1/k_p3ga_pgm + s0/k_p2ga_pgm)))"
      ]
     },
     "metadata": {},
     "output_type": "display_data"
    },
    {
     "data": {
      "text/latex": [
       "$\\displaystyle \\frac{d}{d t} PEP = \\frac{s_{1} vf_{eno} \\left(1 - \\frac{s_{2}}{keq_{eno} s_{1}}\\right)}{k_{p2ga eno} \\left(1 + \\frac{s_{1}}{k_{p2ga eno}} + \\frac{s_{2}}{k_{PEP eno}}\\right)}$"
      ],
      "text/plain": [
       "Eq(Derivative(PEP, t), s1*vf_eno*(1 - s2/(keq_eno*s1))/(k_p2ga_eno*(1 + s1/k_p2ga_eno + s2/k_PEP_eno)))"
      ]
     },
     "metadata": {},
     "output_type": "display_data"
    },
    {
     "data": {
      "text/html": [
       "<div>\n",
       "<style scoped>\n",
       "    .dataframe tbody tr th:only-of-type {\n",
       "        vertical-align: middle;\n",
       "    }\n",
       "\n",
       "    .dataframe tbody tr th {\n",
       "        vertical-align: top;\n",
       "    }\n",
       "\n",
       "    .dataframe thead th {\n",
       "        text-align: right;\n",
       "    }\n",
       "</style>\n",
       "<table border=\"1\" class=\"dataframe\">\n",
       "  <thead>\n",
       "    <tr style=\"text-align: right;\">\n",
       "      <th></th>\n",
       "      <th>name</th>\n",
       "      <th>symbol</th>\n",
       "      <th>value</th>\n",
       "      <th>constant</th>\n",
       "      <th>initial_value</th>\n",
       "      <th>equation</th>\n",
       "      <th>lower_bound</th>\n",
       "      <th>upper_bound</th>\n",
       "    </tr>\n",
       "  </thead>\n",
       "  <tbody>\n",
       "    <tr>\n",
       "      <th>0</th>\n",
       "      <td>vf_pgm</td>\n",
       "      <td>vf_pgm</td>\n",
       "      <td>9.40</td>\n",
       "      <td>False</td>\n",
       "      <td>None</td>\n",
       "      <td>None</td>\n",
       "      <td>None</td>\n",
       "      <td>None</td>\n",
       "    </tr>\n",
       "    <tr>\n",
       "      <th>1</th>\n",
       "      <td>k_p3ga_pgm</td>\n",
       "      <td>k_p3ga_pgm</td>\n",
       "      <td>1.20</td>\n",
       "      <td>False</td>\n",
       "      <td>None</td>\n",
       "      <td>None</td>\n",
       "      <td>None</td>\n",
       "      <td>None</td>\n",
       "    </tr>\n",
       "    <tr>\n",
       "      <th>2</th>\n",
       "      <td>keq_pgm</td>\n",
       "      <td>keq_pgm</td>\n",
       "      <td>0.19</td>\n",
       "      <td>False</td>\n",
       "      <td>None</td>\n",
       "      <td>None</td>\n",
       "      <td>None</td>\n",
       "      <td>None</td>\n",
       "    </tr>\n",
       "    <tr>\n",
       "      <th>3</th>\n",
       "      <td>k_p2ga_pgm</td>\n",
       "      <td>k_p2ga_pgm</td>\n",
       "      <td>0.08</td>\n",
       "      <td>False</td>\n",
       "      <td>None</td>\n",
       "      <td>None</td>\n",
       "      <td>None</td>\n",
       "      <td>None</td>\n",
       "    </tr>\n",
       "    <tr>\n",
       "      <th>4</th>\n",
       "      <td>keq_eno</td>\n",
       "      <td>keq_eno</td>\n",
       "      <td>6.70</td>\n",
       "      <td>False</td>\n",
       "      <td>None</td>\n",
       "      <td>None</td>\n",
       "      <td>None</td>\n",
       "      <td>None</td>\n",
       "    </tr>\n",
       "    <tr>\n",
       "      <th>5</th>\n",
       "      <td>k_PEP_eno</td>\n",
       "      <td>k_PEP_eno</td>\n",
       "      <td>0.50</td>\n",
       "      <td>False</td>\n",
       "      <td>None</td>\n",
       "      <td>None</td>\n",
       "      <td>None</td>\n",
       "      <td>None</td>\n",
       "    </tr>\n",
       "    <tr>\n",
       "      <th>6</th>\n",
       "      <td>vf_eno</td>\n",
       "      <td>vf_eno</td>\n",
       "      <td>1.35</td>\n",
       "      <td>False</td>\n",
       "      <td>None</td>\n",
       "      <td>None</td>\n",
       "      <td>None</td>\n",
       "      <td>None</td>\n",
       "    </tr>\n",
       "    <tr>\n",
       "      <th>7</th>\n",
       "      <td>k_p2ga_eno</td>\n",
       "      <td>k_p2ga_eno</td>\n",
       "      <td>0.04</td>\n",
       "      <td>False</td>\n",
       "      <td>None</td>\n",
       "      <td>None</td>\n",
       "      <td>None</td>\n",
       "      <td>None</td>\n",
       "    </tr>\n",
       "  </tbody>\n",
       "</table>\n",
       "</div>"
      ],
      "text/plain": [
       "         name      symbol  value  constant initial_value equation lower_bound  \\\n",
       "0      vf_pgm      vf_pgm   9.40     False          None     None        None   \n",
       "1  k_p3ga_pgm  k_p3ga_pgm   1.20     False          None     None        None   \n",
       "2     keq_pgm     keq_pgm   0.19     False          None     None        None   \n",
       "3  k_p2ga_pgm  k_p2ga_pgm   0.08     False          None     None        None   \n",
       "4     keq_eno     keq_eno   6.70     False          None     None        None   \n",
       "5   k_PEP_eno   k_PEP_eno   0.50     False          None     None        None   \n",
       "6      vf_eno      vf_eno   1.35     False          None     None        None   \n",
       "7  k_p2ga_eno  k_p2ga_eno   0.04     False          None     None        None   \n",
       "\n",
       "  upper_bound  \n",
       "0        None  \n",
       "1        None  \n",
       "2        None  \n",
       "3        None  \n",
       "4        None  \n",
       "5        None  \n",
       "6        None  \n",
       "7        None  "
      ]
     },
     "metadata": {},
     "output_type": "display_data"
    },
    {
     "data": {
      "text/plain": []
     },
     "execution_count": 17,
     "metadata": {},
     "output_type": "execute_result"
    }
   ],
   "source": [
    "model = Model.load(\"C:/Users/danic/OneDrive/Desktop/Masters Thesis/model_pgm.json\")\n",
    "model"
   ]
  },
  {
   "cell_type": "code",
   "execution_count": 18,
   "id": "6df2f95c-8821-44be-8cff-1678078bea35",
   "metadata": {},
   "outputs": [
    {
     "name": "stdout",
     "output_type": "stream",
     "text": [
      "Model summary\n"
     ]
    },
    {
     "data": {
      "text/latex": [
       "$\\displaystyle x = \\left[\\begin{matrix}s_{0} & s_{1} & s_{2}\\end{matrix}\\right]$"
      ],
      "text/plain": [
       "Eq(x, Matrix([[s0, s1, s2]]))"
      ]
     },
     "metadata": {},
     "output_type": "display_data"
    },
    {
     "data": {
      "text/latex": [
       "$\\displaystyle \\theta = \\left[\\begin{matrix}vf_{pgm} & k_{p3ga pgm} & keq_{pgm} & k_{p2ga pgm} & keq_{eno} & k_{PEP eno} & vf_{eno} & k_{p2ga eno}\\end{matrix}\\right]$"
      ],
      "text/plain": [
       "Eq(theta, Matrix([[vf_pgm, k_p3ga_pgm, keq_pgm, k_p2ga_pgm, keq_eno, k_PEP_eno, vf_eno, k_p2ga_eno]]))"
      ]
     },
     "metadata": {},
     "output_type": "display_data"
    },
    {
     "data": {
      "text/latex": [
       "$\\displaystyle \\frac{d}{d t} s_{0} = \\frac{vf_{pgm} \\left(s_{0} - \\frac{s_{1}}{keq_{pgm}}\\right)}{k_{p2ga pgm} \\left(1 + \\frac{s_{1}}{k_{p3ga pgm}} + \\frac{s_{0}}{k_{p2ga pgm}}\\right)}$"
      ],
      "text/plain": [
       "Eq(Derivative(s0, t), vf_pgm*(s0 - s1/keq_pgm)/(k_p2ga_pgm*(1 + s1/k_p3ga_pgm + s0/k_p2ga_pgm)))"
      ]
     },
     "metadata": {},
     "output_type": "display_data"
    },
    {
     "data": {
      "text/latex": [
       "$\\displaystyle \\frac{d}{d t} s_{1} = \\frac{vf_{pgm} \\left(s_{1} - \\frac{s_{0}}{keq_{pgm}}\\right)}{k_{p3ga pgm} \\left(1 + \\frac{s_{1}}{k_{p3ga pgm}} + \\frac{s_{0}}{k_{p2ga pgm}}\\right)}$"
      ],
      "text/plain": [
       "Eq(Derivative(s1, t), vf_pgm*(s1 - s0/keq_pgm)/(k_p3ga_pgm*(1 + s1/k_p3ga_pgm + s0/k_p2ga_pgm)))"
      ]
     },
     "metadata": {},
     "output_type": "display_data"
    },
    {
     "data": {
      "text/latex": [
       "$\\displaystyle \\frac{d}{d t} s_{2} = \\frac{s_{1} vf_{eno} \\left(1 - \\frac{s_{2}}{keq_{eno} s_{1}}\\right)}{k_{p2ga eno} \\left(1 + \\frac{s_{1}}{k_{p2ga eno}} + \\frac{s_{2}}{k_{PEP eno}}\\right)}$"
      ],
      "text/plain": [
       "Eq(Derivative(s2, t), s1*vf_eno*(1 - s2/(keq_eno*s1))/(k_p2ga_eno*(1 + s1/k_p2ga_eno + s2/k_PEP_eno)))"
      ]
     },
     "metadata": {},
     "output_type": "display_data"
    },
    {
     "data": {
      "text/html": [
       "<div>\n",
       "<style scoped>\n",
       "    .dataframe tbody tr th:only-of-type {\n",
       "        vertical-align: middle;\n",
       "    }\n",
       "\n",
       "    .dataframe tbody tr th {\n",
       "        vertical-align: top;\n",
       "    }\n",
       "\n",
       "    .dataframe thead th {\n",
       "        text-align: right;\n",
       "    }\n",
       "</style>\n",
       "<table border=\"1\" class=\"dataframe\">\n",
       "  <thead>\n",
       "    <tr style=\"text-align: right;\">\n",
       "      <th></th>\n",
       "      <th>name</th>\n",
       "      <th>symbol</th>\n",
       "      <th>value</th>\n",
       "      <th>constant</th>\n",
       "      <th>initial_value</th>\n",
       "      <th>equation</th>\n",
       "      <th>lower_bound</th>\n",
       "      <th>upper_bound</th>\n",
       "    </tr>\n",
       "  </thead>\n",
       "  <tbody>\n",
       "    <tr>\n",
       "      <th>0</th>\n",
       "      <td>vf_pgm</td>\n",
       "      <td>vf_pgm</td>\n",
       "      <td>9.40</td>\n",
       "      <td>False</td>\n",
       "      <td>None</td>\n",
       "      <td>None</td>\n",
       "      <td>None</td>\n",
       "      <td>None</td>\n",
       "    </tr>\n",
       "    <tr>\n",
       "      <th>1</th>\n",
       "      <td>k_p3ga_pgm</td>\n",
       "      <td>k_p3ga_pgm</td>\n",
       "      <td>1.20</td>\n",
       "      <td>False</td>\n",
       "      <td>None</td>\n",
       "      <td>None</td>\n",
       "      <td>None</td>\n",
       "      <td>None</td>\n",
       "    </tr>\n",
       "    <tr>\n",
       "      <th>2</th>\n",
       "      <td>keq_pgm</td>\n",
       "      <td>keq_pgm</td>\n",
       "      <td>0.19</td>\n",
       "      <td>False</td>\n",
       "      <td>None</td>\n",
       "      <td>None</td>\n",
       "      <td>None</td>\n",
       "      <td>None</td>\n",
       "    </tr>\n",
       "    <tr>\n",
       "      <th>3</th>\n",
       "      <td>k_p2ga_pgm</td>\n",
       "      <td>k_p2ga_pgm</td>\n",
       "      <td>0.08</td>\n",
       "      <td>False</td>\n",
       "      <td>None</td>\n",
       "      <td>None</td>\n",
       "      <td>None</td>\n",
       "      <td>None</td>\n",
       "    </tr>\n",
       "    <tr>\n",
       "      <th>4</th>\n",
       "      <td>keq_eno</td>\n",
       "      <td>keq_eno</td>\n",
       "      <td>6.70</td>\n",
       "      <td>False</td>\n",
       "      <td>None</td>\n",
       "      <td>None</td>\n",
       "      <td>None</td>\n",
       "      <td>None</td>\n",
       "    </tr>\n",
       "    <tr>\n",
       "      <th>5</th>\n",
       "      <td>k_PEP_eno</td>\n",
       "      <td>k_PEP_eno</td>\n",
       "      <td>0.50</td>\n",
       "      <td>False</td>\n",
       "      <td>None</td>\n",
       "      <td>None</td>\n",
       "      <td>None</td>\n",
       "      <td>None</td>\n",
       "    </tr>\n",
       "    <tr>\n",
       "      <th>6</th>\n",
       "      <td>vf_eno</td>\n",
       "      <td>vf_eno</td>\n",
       "      <td>1.35</td>\n",
       "      <td>False</td>\n",
       "      <td>None</td>\n",
       "      <td>None</td>\n",
       "      <td>None</td>\n",
       "      <td>None</td>\n",
       "    </tr>\n",
       "    <tr>\n",
       "      <th>7</th>\n",
       "      <td>k_p2ga_eno</td>\n",
       "      <td>k_p2ga_eno</td>\n",
       "      <td>0.04</td>\n",
       "      <td>False</td>\n",
       "      <td>None</td>\n",
       "      <td>None</td>\n",
       "      <td>None</td>\n",
       "      <td>None</td>\n",
       "    </tr>\n",
       "  </tbody>\n",
       "</table>\n",
       "</div>"
      ],
      "text/plain": [
       "         name      symbol  value  constant initial_value equation lower_bound  \\\n",
       "0      vf_pgm      vf_pgm   9.40     False          None     None        None   \n",
       "1  k_p3ga_pgm  k_p3ga_pgm   1.20     False          None     None        None   \n",
       "2     keq_pgm     keq_pgm   0.19     False          None     None        None   \n",
       "3  k_p2ga_pgm  k_p2ga_pgm   0.08     False          None     None        None   \n",
       "4     keq_eno     keq_eno   6.70     False          None     None        None   \n",
       "5   k_PEP_eno   k_PEP_eno   0.50     False          None     None        None   \n",
       "6      vf_eno      vf_eno   1.35     False          None     None        None   \n",
       "7  k_p2ga_eno  k_p2ga_eno   0.04     False          None     None        None   \n",
       "\n",
       "  upper_bound  \n",
       "0        None  \n",
       "1        None  \n",
       "2        None  \n",
       "3        None  \n",
       "4        None  \n",
       "5        None  \n",
       "6        None  \n",
       "7        None  "
      ]
     },
     "metadata": {},
     "output_type": "display_data"
    },
    {
     "data": {
      "text/plain": []
     },
     "execution_count": 18,
     "metadata": {},
     "output_type": "execute_result"
    }
   ],
   "source": [
    "# Initialize the model\n",
    "model = ctx.Model(name=\"PGM\")\n",
    "\n",
    "# Add species\n",
    "model.add_species(\"s0\")\n",
    "model.add_species(\"s1\")\n",
    "model.add_species(\"s2\")\n",
    "\n",
    "# Add ODEs\n",
    "model.add_ode(\"s0\", \"(vf_pgm/k_p2ga_pgm)*(s0-s1/keq_pgm)/(1+((s0/k_p2ga_pgm)+(s1/k_p3ga_pgm)))\")\n",
    "model.add_ode(\"s1\", \"(vf_pgm/k_p3ga_pgm)*(s1-s0/keq_pgm)/(1+((s1/k_p3ga_pgm)+(s0/k_p2ga_pgm)))\")\n",
    "model.add_ode(\"s2\", \"(vf_eno*(s1/k_p2ga_eno)*(1-(s2/s1)/keq_eno)/(1+(s1/k_p2ga_eno)+(s2/k_PEP_eno)))\")\n",
    "\n",
    "# Prepare the model for bayes and define priors \n",
    "model.parameters.vf_eno.value = 1.35\n",
    "model.parameters.vf_pgm.value = 9.4\n",
    "model.parameters.keq_pgm.value = 0.19\n",
    "model.parameters.keq_eno.value = 6.7\n",
    "model.parameters.k_p2ga_pgm.value = 0.08\n",
    "model.parameters.k_p3ga_pgm.value = 1.2\n",
    "model.parameters.k_p2ga_eno.value = 0.04\n",
    "model.parameters.k_PEP_eno.value = 0.5\n",
    "\n",
    "\n",
    "model"
   ]
  },
  {
   "cell_type": "code",
   "execution_count": 19,
   "id": "cd09269b-9f91-4cf5-ab9c-9057667ea284",
   "metadata": {},
   "outputs": [
    {
     "data": {
      "image/png": "[encoded data removed]",
      "text/plain": [
       "<Figure size 1200x1200 with 1 Axes>"
      ]
     },
     "metadata": {},
     "output_type": "display_data"
    }
   ],
   "source": [
    "import matplotlib.pyplot as plt\n",
    "\n",
    "# Data\n",
    "steps = [100,500,1000, 5000, 10000, 50000, 100000]\n",
    "MSE = [632.213,580.434,439.1, 427.3, 379.14,370.2332, 354.350]\n",
    "\n",
    "plt.figure(figsize=(4, 4))\n",
    "\n",
    "# Plotting MSE vs Steps as a bar graph\n",
    "plt.bar([str(step) for step in steps], MSE, color='skyblue')\n",
    "\n",
    "plt.xlabel('Steps',fontsize=5)\n",
    "plt.ylabel('Mean Squared Error (MSE)',fontsize=5)\n",
    "plt.title('MSE vs Steps',fontsize=5)\n",
    "plt.xticks(rotation=45)  # Rotate x-axis labels for better readability\n",
    "\n",
    "plt.show()\n",
    "\n",
    "\n"
   ]
  },
  {
   "cell_type": "code",
   "execution_count": null,
   "id": "0cdb452e-de12-48a3-9a41-165c2a6ff45e",
   "metadata": {},
   "outputs": [],
   "source": []
  },
  {
   "cell_type": "code",
   "execution_count": null,
   "id": "300a2853-dcbe-4a96-9965-4d0e59f151ad",
   "metadata": {},
   "outputs": [],
   "source": []
  },
  {
   "cell_type": "code",
   "execution_count": null,
   "id": "2d8da6c2-023d-42b5-96e2-2171e90021cb",
   "metadata": {},
   "outputs": [],
   "source": []
  },
  {
   "cell_type": "code",
   "execution_count": null,
   "id": "f112067d-e929-46a3-ab15-51c13b669b51",
   "metadata": {},
   "outputs": [],
   "source": []
  },
  {
   "cell_type": "code",
   "execution_count": null,
   "id": "1ad66b76-4a6c-45d4-aee2-4b8099b6797b",
   "metadata": {},
   "outputs": [],
   "source": []
  },
  {
   "cell_type": "code",
   "execution_count": null,
   "id": "1262e4f0-cbf6-4aae-b4b8-b434a7d1205b",
   "metadata": {},
   "outputs": [],
   "source": []
  },
  {
   "cell_type": "code",
   "execution_count": null,
   "id": "38a17575-f908-49db-9b38-85a8c4968813",
   "metadata": {},
   "outputs": [],
   "source": []
  }
 ],
 "metadata": {
  "kernelspec": {
   "display_name": "Python 3 (ipykernel)",
   "language": "python",
   "name": "python3"
  },
  "language_info": {
   "codemirror_mode": {
    "name": "ipython",
    "version": 3
   },
   "file_extension": ".py",
   "mimetype": "text/x-python",
   "name": "python",
   "nbconvert_exporter": "python",
   "pygments_lexer": "ipython3",
   "version": "3.11.5"
  }
 },
 "nbformat": 4,
 "nbformat_minor": 5
}
