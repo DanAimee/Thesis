{
 "cells": [
  {
   "cell_type": "code",
   "execution_count": 3,
   "id": "f4eec1d2-eef1-47b6-8737-e90cb1da2c1d",
   "metadata": {},
   "outputs": [],
   "source": [
    "import pickle\n",
    "import random\n",
    "import os"
   ]
  },
  {
   "cell_type": "code",
   "execution_count": 11,
   "id": "8a554879-7698-44fd-b7a6-04a1b03c6499",
   "metadata": {},
   "outputs": [],
   "source": [
    "# Step 1: Load the combined data containing 50 pickle objects\n",
    "# Step 1: Define the directory containing the 50 pickle files\n",
    "combined_data_dir = \"C:/Users/danic/OneDrive/Desktop/Masters Thesis/Combined_pickles\"  # Adjust this path\n"
   ]
  },
  {
   "cell_type": "code",
   "execution_count": 12,
   "id": "87be229b-d0b6-4946-bccf-439e0faec833",
   "metadata": {
    "scrolled": true
   },
   "outputs": [
    {
     "name": "stdout",
     "output_type": "stream",
     "text": [
      "Total pickle files found: 50\n"
     ]
    }
   ],
   "source": [
    "# List all pickle files in the directory\n",
    "all_files = [f for f in os.listdir(combined_data_dir) if f.endswith('.pickle')]\n",
    "\n",
    "# Verify the number of files\n",
    "print(f\"Total pickle files found: {len(all_files)}\")\n"
   ]
  },
  {
   "cell_type": "code",
   "execution_count": 13,
   "id": "2a7064a0-a5fc-433c-b1fd-edae9b74c65f",
   "metadata": {},
   "outputs": [],
   "source": [
    "# Step 2: Shuffle the list of files\n",
    "random.shuffle(all_files)\n"
   ]
  },
  {
   "cell_type": "code",
   "execution_count": 14,
   "id": "0c067bee-4897-4186-bc09-e4b93c1552ef",
   "metadata": {},
   "outputs": [],
   "source": [
    "# Step 3: Split the shuffled list into 5 sets, each with 10 files\n",
    "split_size = 10\n",
    "splits = [all_files[i:i + split_size] for i in range(0, len(all_files), split_size)]\n"
   ]
  },
  {
   "cell_type": "code",
   "execution_count": 19,
   "id": "96386627-3e4e-4f77-be50-785ad01a3558",
   "metadata": {},
   "outputs": [],
   "source": [
    "# Step 4: Create output directories and move the files into these new directories\n",
    "output_base_dir = \"C:/Users/danic/OneDrive/Desktop/Masters Thesis/\"  # Adjust this path to your desired location\n",
    "set_names = ['Validation Set A', 'Validation Set B', 'Validation Set C', 'Validation Set D', 'Validation Set E']\n"
   ]
  },
  {
   "cell_type": "code",
   "execution_count": 20,
   "id": "395a0034-e096-4084-90f7-91f85334bdd6",
   "metadata": {},
   "outputs": [],
   "source": [
    "import shutil"
   ]
  },
  {
   "cell_type": "code",
   "execution_count": 21,
   "id": "6acf20a4-4e82-432a-abb9-08f88b4b5df3",
   "metadata": {},
   "outputs": [
    {
     "ename": "FileNotFoundError",
     "evalue": "[Errno 2] No such file or directory: 'C:/Users/danic/OneDrive/Desktop/Masters Thesis/Combined_pickles\\\\Kamo_nmr_17.5mm3pga_10lys_stdpH7_scerev_180821.pickle'",
     "output_type": "error",
     "traceback": [
      "\u001b[1;31m---------------------------------------------------------------------------\u001b[0m",
      "\u001b[1;31mFileNotFoundError\u001b[0m                         Traceback (most recent call last)",
      "File \u001b[1;32m~\\anaconda3\\envs\\test\\Lib\\shutil.py:853\u001b[0m, in \u001b[0;36mmove\u001b[1;34m(src, dst, copy_function)\u001b[0m\n\u001b[0;32m    852\u001b[0m \u001b[38;5;28;01mtry\u001b[39;00m:\n\u001b[1;32m--> 853\u001b[0m     os\u001b[38;5;241m.\u001b[39mrename(src, real_dst)\n\u001b[0;32m    854\u001b[0m \u001b[38;5;28;01mexcept\u001b[39;00m \u001b[38;5;167;01mOSError\u001b[39;00m:\n",
      "\u001b[1;31mFileNotFoundError\u001b[0m: [WinError 2] The system cannot find the file specified: 'C:/Users/danic/OneDrive/Desktop/Masters Thesis/Combined_pickles\\\\Kamo_nmr_17.5mm3pga_10lys_stdpH7_scerev_180821.pickle' -> 'C:/Users/danic/OneDrive/Desktop/Masters Thesis/Validation Set A\\\\Kamo_nmr_17.5mm3pga_10lys_stdpH7_scerev_180821.pickle'",
      "\nDuring handling of the above exception, another exception occurred:\n",
      "\u001b[1;31mFileNotFoundError\u001b[0m                         Traceback (most recent call last)",
      "Cell \u001b[1;32mIn[21], line 9\u001b[0m\n\u001b[0;32m      7\u001b[0m         source_path \u001b[38;5;241m=\u001b[39m os\u001b[38;5;241m.\u001b[39mpath\u001b[38;5;241m.\u001b[39mjoin(combined_data_dir, file_name)\n\u001b[0;32m      8\u001b[0m         destination_path \u001b[38;5;241m=\u001b[39m os\u001b[38;5;241m.\u001b[39mpath\u001b[38;5;241m.\u001b[39mjoin(set_dir, file_name)\n\u001b[1;32m----> 9\u001b[0m         shutil\u001b[38;5;241m.\u001b[39mmove(source_path, destination_path)  \u001b[38;5;66;03m# Move the file to the new directory\u001b[39;00m\n\u001b[0;32m     10\u001b[0m         \u001b[38;5;28mprint\u001b[39m(\u001b[38;5;124mf\u001b[39m\u001b[38;5;124m\"\u001b[39m\u001b[38;5;124mMoved \u001b[39m\u001b[38;5;132;01m{\u001b[39;00mfile_name\u001b[38;5;132;01m}\u001b[39;00m\u001b[38;5;124m to \u001b[39m\u001b[38;5;132;01m{\u001b[39;00mset_names[i]\u001b[38;5;132;01m}\u001b[39;00m\u001b[38;5;124m\"\u001b[39m)\n\u001b[0;32m     12\u001b[0m \u001b[38;5;28mprint\u001b[39m(\u001b[38;5;124m\"\u001b[39m\u001b[38;5;124mAll sets have been successfully created and files moved.\u001b[39m\u001b[38;5;124m\"\u001b[39m)\n",
      "File \u001b[1;32m~\\anaconda3\\envs\\test\\Lib\\shutil.py:873\u001b[0m, in \u001b[0;36mmove\u001b[1;34m(src, dst, copy_function)\u001b[0m\n\u001b[0;32m    871\u001b[0m         rmtree(src)\n\u001b[0;32m    872\u001b[0m     \u001b[38;5;28;01melse\u001b[39;00m:\n\u001b[1;32m--> 873\u001b[0m         copy_function(src, real_dst)\n\u001b[0;32m    874\u001b[0m         os\u001b[38;5;241m.\u001b[39munlink(src)\n\u001b[0;32m    875\u001b[0m \u001b[38;5;28;01mreturn\u001b[39;00m real_dst\n",
      "File \u001b[1;32m~\\anaconda3\\envs\\test\\Lib\\shutil.py:448\u001b[0m, in \u001b[0;36mcopy2\u001b[1;34m(src, dst, follow_symlinks)\u001b[0m\n\u001b[0;32m    446\u001b[0m \u001b[38;5;28;01mif\u001b[39;00m os\u001b[38;5;241m.\u001b[39mpath\u001b[38;5;241m.\u001b[39misdir(dst):\n\u001b[0;32m    447\u001b[0m     dst \u001b[38;5;241m=\u001b[39m os\u001b[38;5;241m.\u001b[39mpath\u001b[38;5;241m.\u001b[39mjoin(dst, os\u001b[38;5;241m.\u001b[39mpath\u001b[38;5;241m.\u001b[39mbasename(src))\n\u001b[1;32m--> 448\u001b[0m copyfile(src, dst, follow_symlinks\u001b[38;5;241m=\u001b[39mfollow_symlinks)\n\u001b[0;32m    449\u001b[0m copystat(src, dst, follow_symlinks\u001b[38;5;241m=\u001b[39mfollow_symlinks)\n\u001b[0;32m    450\u001b[0m \u001b[38;5;28;01mreturn\u001b[39;00m dst\n",
      "File \u001b[1;32m~\\anaconda3\\envs\\test\\Lib\\shutil.py:256\u001b[0m, in \u001b[0;36mcopyfile\u001b[1;34m(src, dst, follow_symlinks)\u001b[0m\n\u001b[0;32m    254\u001b[0m     os\u001b[38;5;241m.\u001b[39msymlink(os\u001b[38;5;241m.\u001b[39mreadlink(src), dst)\n\u001b[0;32m    255\u001b[0m \u001b[38;5;28;01melse\u001b[39;00m:\n\u001b[1;32m--> 256\u001b[0m     \u001b[38;5;28;01mwith\u001b[39;00m \u001b[38;5;28mopen\u001b[39m(src, \u001b[38;5;124m'\u001b[39m\u001b[38;5;124mrb\u001b[39m\u001b[38;5;124m'\u001b[39m) \u001b[38;5;28;01mas\u001b[39;00m fsrc:\n\u001b[0;32m    257\u001b[0m         \u001b[38;5;28;01mtry\u001b[39;00m:\n\u001b[0;32m    258\u001b[0m             \u001b[38;5;28;01mwith\u001b[39;00m \u001b[38;5;28mopen\u001b[39m(dst, \u001b[38;5;124m'\u001b[39m\u001b[38;5;124mwb\u001b[39m\u001b[38;5;124m'\u001b[39m) \u001b[38;5;28;01mas\u001b[39;00m fdst:\n\u001b[0;32m    259\u001b[0m                 \u001b[38;5;66;03m# macOS\u001b[39;00m\n",
      "\u001b[1;31mFileNotFoundError\u001b[0m: [Errno 2] No such file or directory: 'C:/Users/danic/OneDrive/Desktop/Masters Thesis/Combined_pickles\\\\Kamo_nmr_17.5mm3pga_10lys_stdpH7_scerev_180821.pickle'"
     ]
    }
   ],
   "source": [
    "# Create output directories for each set and move files\n",
    "for i, split in enumerate(splits):\n",
    "    set_dir = os.path.join(output_base_dir, set_names[i])\n",
    "    os.makedirs(set_dir, exist_ok=True)\n",
    "    \n",
    "    for file_name in split:\n",
    "        source_path = os.path.join(combined_data_dir, file_name)\n",
    "        destination_path = os.path.join(set_dir, file_name)\n",
    "        shutil.move(source_path, destination_path)  # Move the file to the new directory\n",
    "        print(f\"Moved {file_name} to {set_names[i]}\")\n",
    "        \n",
    "print(\"All sets have been successfully created and files moved.\")"
   ]
  },
  {
   "cell_type": "code",
   "execution_count": null,
   "id": "45c886df-4ffc-4ac9-accc-d689cb92f076",
   "metadata": {},
   "outputs": [],
   "source": []
  },
  {
   "cell_type": "code",
   "execution_count": null,
   "id": "dbdb8d4a-1bb8-4265-8e03-8db99857fe0c",
   "metadata": {},
   "outputs": [],
   "source": []
  },
  {
   "cell_type": "code",
   "execution_count": null,
   "id": "2f44bbd2-2889-4731-ab16-d258378293cd",
   "metadata": {},
   "outputs": [],
   "source": []
  }
 ],
 "metadata": {
  "kernelspec": {
   "display_name": "Python 3 (ipykernel)",
   "language": "python",
   "name": "python3"
  },
  "language_info": {
   "codemirror_mode": {
    "name": "ipython",
    "version": 3
   },
   "file_extension": ".py",
   "mimetype": "text/x-python",
   "name": "python",
   "nbconvert_exporter": "python",
   "pygments_lexer": "ipython3",
   "version": "3.11.8"
  }
 },
 "nbformat": 4,
 "nbformat_minor": 5
}
