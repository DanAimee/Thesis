{
 "cells": [
  {
   "cell_type": "code",
   "execution_count": 22,
   "id": "f4eec1d2-eef1-47b6-8737-e90cb1da2c1d",
   "metadata": {},
   "outputs": [],
   "source": [
    "import pickle\n",
    "import random\n",
    "import os"
   ]
  },
  {
   "cell_type": "code",
   "execution_count": 23,
   "id": "8a554879-7698-44fd-b7a6-04a1b03c6499",
   "metadata": {},
   "outputs": [],
   "source": [
    "# Step 1: Load the combined data containing 50 pickle objects\n",
    "# Step 1: Define the directory containing the 50 pickle files\n",
    "combined_data_dir = \"C:/Users/danic/OneDrive/Desktop/Masters Thesis/Combined_pickles\"  # Adjust this path\n"
   ]
  },
  {
   "cell_type": "code",
   "execution_count": 24,
   "id": "87be229b-d0b6-4946-bccf-439e0faec833",
   "metadata": {
    "scrolled": true
   },
   "outputs": [
    {
     "name": "stdout",
     "output_type": "stream",
     "text": [
      "Total pickle files found: 50\n"
     ]
    }
   ],
   "source": [
    "# List all pickle files in the directory\n",
    "all_files = [f for f in os.listdir(combined_data_dir) if f.endswith('.pickle')]\n",
    "\n",
    "# Verify the number of files\n",
    "print(f\"Total pickle files found: {len(all_files)}\")\n"
   ]
  },
  {
   "cell_type": "code",
   "execution_count": 25,
   "id": "2a7064a0-a5fc-433c-b1fd-edae9b74c65f",
   "metadata": {},
   "outputs": [],
   "source": [
    "# Step 2: Shuffle the list of files\n",
    "random.shuffle(all_files)\n"
   ]
  },
  {
   "cell_type": "code",
   "execution_count": 26,
   "id": "0c067bee-4897-4186-bc09-e4b93c1552ef",
   "metadata": {},
   "outputs": [],
   "source": [
    "# Step 3: Split the shuffled list into 5 sets, each with 10 files\n",
    "split_size = 10\n",
    "splits = [all_files[i:i + split_size] for i in range(0, len(all_files), split_size)]\n"
   ]
  },
  {
   "cell_type": "code",
   "execution_count": 27,
   "id": "96386627-3e4e-4f77-be50-785ad01a3558",
   "metadata": {},
   "outputs": [],
   "source": [
    "# Step 4: Create output directories and move the files into these new directories\n",
    "output_base_dir = \"C:/Users/danic/OneDrive/Desktop/Masters Thesis/\"  # Adjust this path to your desired location\n",
    "set_names = ['Validation Set A', 'Validation Set B', 'Validation Set C', 'Validation Set D', 'Validation Set E']\n"
   ]
  },
  {
   "cell_type": "code",
   "execution_count": 28,
   "id": "395a0034-e096-4084-90f7-91f85334bdd6",
   "metadata": {},
   "outputs": [],
   "source": [
    "import shutil"
   ]
  },
  {
   "cell_type": "code",
   "execution_count": 29,
   "id": "6acf20a4-4e82-432a-abb9-08f88b4b5df3",
   "metadata": {},
   "outputs": [
    {
     "name": "stdout",
     "output_type": "stream",
     "text": [
      "Moved Kyle_nmr_20mmPEP_10lys_pH7_scerev_240822_cal.pickle to Validation Set A\n",
      "Moved Kyle_nmr_15mmP3GA_10lys_pH7_scerev_020922_cal.pickle to Validation Set A\n",
      "Moved Kyle_nmr_5mmP3GA_10lys_pH7_scerev_020922_cal.pickle to Validation Set A\n",
      "Moved Kyle_nmr_7.5mmP3GA_10lys_pH7_scerev_020922_cal.pickle to Validation Set A\n",
      "Moved Kyle_nmr_17.5mmPEP_10lys_pH7_scerev_240822_cal.pickle to Validation Set A\n",
      "Moved Kamo_nmr_15mm3pga_10lys_stdpH7_scerev_180821.pickle to Validation Set A\n",
      "Moved Kamo_nmr_12.5mmPEP_10lys_stdpH7_scerev_190821.pickle to Validation Set A\n",
      "Moved Melissa_nmr_3mm3pg_pgmeno_5perclysate_182709.fid.pickle to Validation Set A\n",
      "Moved Melissa_nmr_5mm3pg_pgmeno_5perclysate_182709.fid.pickle to Validation Set A\n",
      "Moved Kamo_nmr_20mmPEP_10lys_stdpH7_scerev_220821.pickle to Validation Set A\n",
      "Moved Melissa_nmr_17.5mmpep_enopgm_30perclysate_181310.fid.pickle to Validation Set B\n",
      "Moved Kamo_nmr_10mm3pga_10lys_stdpH7_scerev_180821.pickle to Validation Set B\n",
      "Moved Kamo_nmr_12.5mmPEP_10lys_stdpH7_scerev_220821.pickle to Validation Set B\n",
      "Moved Melissa_nmr_20mmpep_enopgm_10perclys_182609.fid.pickle to Validation Set B\n",
      "Moved Melissa_nmr_7.5mm3pg_pgmeno_5perclysate_182609.fid.pickle to Validation Set B\n",
      "Moved Melissa_nmr_27.5mmpep_enopgm_30perclysate_181310.fid.pickle to Validation Set B\n",
      "Moved Melissa_nmr_17.5mm3pg_enopgm_10perclysate_181710.fid.pickle to Validation Set B\n",
      "Moved Kamo_nmr_20mmPEP_10lys_stdpH7_scerev_190821.pickle to Validation Set B\n",
      "Moved Melissa_nmr_15mmpep_enopgm_10perclys_181909.fid.pickle to Validation Set B\n",
      "Moved Melissa_nmr_12.5mmpep_enopgm_30perclysate_181410.fid.pickle to Validation Set B\n",
      "Moved Melissa_nmr_15mm3pg_pgmeno_10perclys_181909.fid.pickle to Validation Set C\n",
      "Moved Kamo_nmr_17.5mmPEP_10lys_stdpH7_scerev_190821.pickle to Validation Set C\n",
      "Moved Kyle_nmr_12.5mmPEP_10lys_pH7_scerev_240822_cal.pickle to Validation Set C\n",
      "Moved Kyle_nmr_10mmPEP10mmp3ga_10lys_pH7_scerev_290822_cal.pickle to Validation Set C\n",
      "Moved Kamo_nmr_10mmPGA4mm2pep_10lys_stdpH7_scerev_260821.pickle to Validation Set C\n",
      "Moved Kamo_nmr_17.5mmPEP_10lys_stdpH7_scerev_220821.pickle to Validation Set C\n",
      "Moved Melissa_nmr_5mmpep_enopgm_5perclysate_182709.fid.pickle to Validation Set C\n",
      "Moved Melissa_nmr_20mmpep10mm3pg_enopgm_10perclysate_182609.fid.pickle to Validation Set C\n",
      "Moved Melissa_nmr_10mmpep_enopgm_10perclys_181909.fid.pickle to Validation Set C\n",
      "Moved Kamo_nmr_15mmPEP_10lys_stdpH7_scerev_190821.pickle to Validation Set C\n",
      "Moved Kyle_nmr_17.5mmP3GA_10lys_pH7_scerev_020922_cal.pickle to Validation Set D\n",
      "Moved Kyle_nmr_20mmP3GA_10lys_pH7_scerev_020922_cal.pickle to Validation Set D\n",
      "Moved Kyle_nmr_10mmP3GA_10lys_pH7_scerev_020922_cal.pickle to Validation Set D\n",
      "Moved Kyle_nmr_12.5mmP3GA_10lys_pH7_scerev_020922_cal.pickle to Validation Set D\n",
      "Moved Kamo_nmr_12.5mm3pga_10lys_stdpH7_scerev_180821.pickle to Validation Set D\n",
      "Moved Melissa_nmr_20mm3pg_enopgm_5perclysate_181210.fid.pickle to Validation Set D\n",
      "Moved Kamo_nmr_19mm3pga_10lys_stdpH7_scerev_180821.pickle to Validation Set D\n",
      "Moved Kyle_nmr_2.5mmPEP_10lys_pH7_scerev_290822_cal.pickle to Validation Set D\n",
      "Moved Kyle_nmr_5mmPEP_10lys_pH7_scerev_290822_cal.pickle to Validation Set D\n",
      "Moved Melissa_nmr_20mm3pg10mmpep_pgmeno_10perclysate_182709.fid.pickle to Validation Set D\n",
      "Moved Kamo_nmr_15mmPEP_10lys_stdpH7_scerev_220821.pickle to Validation Set E\n",
      "Moved Kamo_nmr_17.5mm3pga_10lys_stdpH7_scerev_180821.pickle to Validation Set E\n",
      "Moved Melissa_nmr_12.5mm3pg_enopgm_10perclysate_181310.fid.pickle to Validation Set E\n",
      "Moved Kamo_nmr_10mmPEP_10lys_stdpH7_scerev_220821.pickle to Validation Set E\n",
      "Moved Melissa_nmr_30mm3pg_enopgm_10perclysate_181210.fid.pickle to Validation Set E\n",
      "Moved Kamo_nmr_20mm3pga_10lys_stdpH7_scerev_180821_to_pc.pickle to Validation Set E\n",
      "Moved Kamo_nmr_10mmPEP4mm3pga_10lys_stdpH7_scerev_250821.pickle to Validation Set E\n",
      "Moved Kamo_nmr_10mmPEP_10lys_stdpH7_scerev_190821.pickle to Validation Set E\n",
      "Moved Melissa_nmr_25mm3pg_enopgm_10perclysate_182810.fid.pickle to Validation Set E\n",
      "Moved Melissa_nmr_10mm3pg_pgmeno_10perclys_181909.fid.pickle to Validation Set E\n",
      "All sets have been successfully created and files moved.\n"
     ]
    }
   ],
   "source": [
    "# Create output directories for each set and move files\n",
    "for i, split in enumerate(splits):\n",
    "    set_dir = os.path.join(output_base_dir, set_names[i])\n",
    "    os.makedirs(set_dir, exist_ok=True)\n",
    "    \n",
    "    for file_name in split:\n",
    "        source_path = os.path.join(combined_data_dir, file_name)\n",
    "        destination_path = os.path.join(set_dir, file_name)\n",
    "        shutil.move(source_path, destination_path)  # Move the file to the new directory\n",
    "        print(f\"Moved {file_name} to {set_names[i]}\")\n",
    "        \n",
    "print(\"All sets have been successfully created and files moved.\")"
   ]
  },
  {
   "cell_type": "code",
   "execution_count": null,
   "id": "45c886df-4ffc-4ac9-accc-d689cb92f076",
   "metadata": {},
   "outputs": [],
   "source": []
  },
  {
   "cell_type": "code",
   "execution_count": null,
   "id": "dbdb8d4a-1bb8-4265-8e03-8db99857fe0c",
   "metadata": {},
   "outputs": [],
   "source": []
  },
  {
   "cell_type": "code",
   "execution_count": null,
   "id": "2f44bbd2-2889-4731-ab16-d258378293cd",
   "metadata": {},
   "outputs": [],
   "source": []
  }
 ],
 "metadata": {
  "kernelspec": {
   "display_name": "Python 3 (ipykernel)",
   "language": "python",
   "name": "python3"
  },
  "language_info": {
   "codemirror_mode": {
    "name": "ipython",
    "version": 3
   },
   "file_extension": ".py",
   "mimetype": "text/x-python",
   "name": "python",
   "nbconvert_exporter": "python",
   "pygments_lexer": "ipython3",
   "version": "3.11.8"
  }
 },
 "nbformat": 4,
 "nbformat_minor": 5
}
