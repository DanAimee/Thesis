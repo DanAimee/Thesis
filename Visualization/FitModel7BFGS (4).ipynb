{
 "cells": [
  {
   "cell_type": "code",
   "execution_count": null,
   "metadata": {},
   "outputs": [],
   "source": [
    "#I am having an issue replicating this notebook. The main issue being 'extract_data_from_enzymeml' for visualization\n",
    "\n",
    "import jax\n",
    "\n",
    "from catalax import Model, optimize, visualize\n",
    "from utils import extract_data_from_enzymeml, create_title\n",
    "\n",
    "jax.config.update(\"jax_enable_x64\", True)"
   ]
  },
  {
   "cell_type": "code",
   "execution_count": null,
   "metadata": {},
   "outputs": [],
   "source": [
    "model = Model.load(\"C:/Users/danic/OneDrive/Desktop/Masters Thesis/Kyle time arrays/final_initials - Copy.json\")\n",
    "model"
   ]
  },
  {
   "cell_type": "code",
   "execution_count": null,
   "metadata": {},
   "outputs": [],
   "source": [
    "# Extract data from EnzymeML\n",
    "species_mapping = {\n",
    "    \"s0\": \"s0\",\n",
    "    \"s1\": \"s1\",\n",
    "    \"s2\": \"s2\",\n",
    "    \"s3\": \"s3\",\n",
    "}\n",
    "\n",
    "initial_conditions, times, data = extract_data_from_enzymeml(\n",
    "    path=\"C:/Users/danic/OneDrive/Desktop/Masters Thesis/PGM-ENO-(Kyle)_timescaled (2).omex\",\n",
    "    model=model,\n",
    "    species_mapping=species_mapping,\n",
    ")\n",
    "\n",
    "# Remove the high PGME data\n",
    "initial_conditions = initial_conditions\n",
    "data = data\n",
    "times = times"
   ]
  },
  {
   "cell_type": "code",
   "execution_count": null,
   "metadata": {},
   "outputs": [],
   "source": [
    "# Perform the optimization\n",
    "result, new_model = optimize(\n",
    "    model,\n",
    "    initial_conditions[0:-1],\n",
    "    data[0:-1],\n",
    "    times[0:-1],\n",
    "    global_upper_bound=1e5,\n",
    "    global_lower_bound=1e-6,\n",
    "    method=\"bfgs\"\n",
    ")"
   ]
  },
  {
   "cell_type": "code",
   "execution_count": null,
   "metadata": {
    "scrolled": true
   },
   "outputs": [],
   "source": [
    "# Visualize the results\n",
    "aic = new_model.calculate_aic(data[0:-1], initial_conditions[0:-1], times[0:-1]) / data[0:-1].shape[-1]\n",
    "f = visualize(\n",
    "    model=new_model,\n",
    "    data=data[0:-1],\n",
    "    times=times[0:-1],\n",
    "    initial_conditions=initial_conditions[0:-1],\n",
    "    colors={\"s0\": \"green\", \"s1\": \"blue\", \"s2\": \"orange\", \"s3\": \"red\"},\n",
    "    heading_fontsize=10,\n",
    "    save=\"C:/Users/danic/OneDrive.Desktop/Masters Thesis\",\n",
    "    title=create_title(\n",
    "        model_name=\"Model 07\",\n",
    "        aic=aic,\n",
    "        sub=\"...\",\n",
    "    ),\n",
    ")"
   ]
  },
  {
   "cell_type": "code",
   "execution_count": null,
   "metadata": {},
   "outputs": [],
   "source": [
    "# Perform the optimization\n",
    "result, new_model = optimize(\n",
    "    model,\n",
    "    initial_conditions,\n",
    "    data,\n",
    "    times,\n",
    "    global_upper_bound=1e5,\n",
    "    global_lower_bound=1e-6,\n",
    "    method=\"bfgs\"\n",
    ")"
   ]
  },
  {
   "cell_type": "code",
   "execution_count": null,
   "metadata": {},
   "outputs": [],
   "source": [
    "# Visualize the results\n",
    "aic = new_model.calculate_aic(data, initial_conditions, times) / data.shape[-1]\n",
    "f = visualize(\n",
    "    model=new_model,\n",
    "    data=data,\n",
    "    times=times,\n",
    "    initial_conditions=initial_conditions,\n",
    "    colors={\"s0\": \"green\", \"s1\": \"blue\", \"s2\": \"orange\", \"s3\": \"red\"},\n",
    "    heading_fontsize=10,\n",
    "    save=\"./plots/model_07_fit\",\n",
    "    title=create_title(\n",
    "        model_name=\"Model 07\",\n",
    "        aic=aic,\n",
    "        sub=\"......\",\n",
    "    ),\n",
    ")"
   ]
  }
 ],
 "metadata": {
  "kernelspec": {
   "display_name": "Python 3 (ipykernel)",
   "language": "python",
   "name": "python3"
  },
  "language_info": {
   "codemirror_mode": {
    "name": "ipython",
    "version": 3
   },
   "file_extension": ".py",
   "mimetype": "text/x-python",
   "name": "python",
   "nbconvert_exporter": "python",
   "pygments_lexer": "ipython3",
   "version": "3.11.5"
  }
 },
 "nbformat": 4,
 "nbformat_minor": 4
}
